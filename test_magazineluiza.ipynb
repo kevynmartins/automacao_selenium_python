{
 "cells": [
  {
   "cell_type": "code",
   "execution_count": 11,
   "metadata": {},
   "outputs": [],
   "source": [
    "from os import close\n",
    "from selenium import webdriver \n",
    "from selenium.webdriver.common.by import By\n",
    "\n",
    "# ir para o navegador chrome.\n",
    "navegador = webdriver.Chrome()\n",
    "# ir para a URL do site usando o comando .get\n",
    "navegador.get(\"https://ri.magazineluiza.com.br/\")\n",
    "# procurar um elemento usando o XPATH com o comando .find_element(By.XPATH, 'caminho xpath') e Clicando nele com o comando .click()\n",
    "navegador.find_element(By.XPATH, '//*[@id=\"Form1\"]/div[7]/a').click()\n",
    "# fechando o navegador com o comando .close()\n",
    "navegador.close()\n"
   ]
  }
 ],
 "metadata": {
  "kernelspec": {
   "display_name": "Python 3.10.4 64-bit",
   "language": "python",
   "name": "python3"
  },
  "language_info": {
   "codemirror_mode": {
    "name": "ipython",
    "version": 3
   },
   "file_extension": ".py",
   "mimetype": "text/x-python",
   "name": "python",
   "nbconvert_exporter": "python",
   "pygments_lexer": "ipython3",
   "version": "3.10.4"
  },
  "orig_nbformat": 4,
  "vscode": {
   "interpreter": {
    "hash": "916dbcbb3f70747c44a77c7bcd40155683ae19c65e1c03b4aa3499c5328201f1"
   }
  }
 },
 "nbformat": 4,
 "nbformat_minor": 2
}
